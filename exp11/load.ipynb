{
 "cells": [
  {
   "cell_type": "code",
   "execution_count": 28,
   "metadata": {},
   "outputs": [],
   "source": [
    "import numpy as np\n",
    "import cv2\n",
    "\n",
    "x1 = np.load(r\"huawei.jpg.r2d2\")\n",
    "x2 = np.load(r\"2.jpg.r2d2\")\n",
    "xr = np.load(r\"2_r.jpg.r2d2\")"
   ]
  },
  {
   "cell_type": "code",
   "execution_count": 29,
   "metadata": {},
   "outputs": [],
   "source": [
    "kp1 = x1['keypoints']\n",
    "des1 = x1['descriptors']\n",
    "kp2 = x2['keypoints']\n",
    "des2 = x2['descriptors']\n",
    "kpr = xr['keypoints']\n",
    "desr = xr['descriptors']"
   ]
  },
  {
   "cell_type": "code",
   "execution_count": 30,
   "metadata": {},
   "outputs": [],
   "source": [
    "kp1 = [cv2.KeyPoint(kp1[i][0], kp1[i][1], 1) for i in range(kp1.shape[0])]\n",
    "kp2 = [cv2.KeyPoint(kp2[i][0], kp2[i][1], 1) for i in range(kp2.shape[0])]\n",
    "kpr = [cv2.KeyPoint(kpr[i][0], kpr[i][1], 1) for i in range(kpr.shape[0])]"
   ]
  },
  {
   "cell_type": "code",
   "execution_count": 39,
   "metadata": {},
   "outputs": [],
   "source": [
    "img1 = cv2.imread(\"./huawei.jpg\")\n",
    "img_out1 = cv2.drawKeypoints(img1,kp1,None)\n",
    "img2 = cv2.imread(\"./2.jpg\")\n",
    "img_out2 = cv2.drawKeypoints(img2,kp2,None)\n",
    "imgr = cv2.imread(\"./2_r.jpg\")\n",
    "img_outr = cv2.drawKeypoints(imgr,kpr,None)\n",
    "cv2.imshow(\"output1\",img_out1)\n",
    "cv2.waitKey()\n",
    "cv2.imshow(\"output2\",img_out2)\n",
    "cv2.waitKey()\n",
    "cv2.imshow(\"outputr\",img_outr)\n",
    "cv2.waitKey()\n",
    "cv2.destroyAllWindows()"
   ]
  },
  {
   "cell_type": "code",
   "execution_count": 40,
   "metadata": {},
   "outputs": [],
   "source": [
    "bf = cv2.BFMatcher(cv2.NORM_L2, crossCheck=True)  # 新建BFMatcher对象，sift的normType应该使用NORM_L2或者NORM_L1\n",
    "matches = bf.match(des1, des2)\n",
    "matches = sorted(matches, key=lambda x: x.distance)\n",
    "img_r2d2 = cv2.drawMatches(img1, kp1, img2, kp2, matches[:50], img2, flags=2)\n",
    "cv2.imshow('r2d2', img_r2d2)\n",
    "cv2.waitKey()\n",
    "matches = bf.match(des1, desr)\n",
    "matches = sorted(matches, key=lambda x: x.distance)\n",
    "img_r2d2_r = cv2.drawMatches(img1, kp1, imgr, kpr, matches[:50], imgr, flags=2)\n",
    "cv2.imshow('r2d2_r', img_r2d2_r)\n",
    "cv2.waitKey()\n",
    "cv2.destroyAllWindows()"
   ]
  },
  {
   "cell_type": "markdown",
   "metadata": {},
   "source": [
    "## sift"
   ]
  },
  {
   "cell_type": "code",
   "execution_count": 35,
   "metadata": {},
   "outputs": [],
   "source": [
    "img1_siftc = cv2.imread(r'huawei.jpg') # 读取文件\n",
    "img1_sift = cv2.cvtColor(img1_siftc, cv2.COLOR_BGR2GRAY) # 转化为灰度图\n",
    "sift = cv2.xfeatures2d_SIFT.create()  # 新建一个sift算子\n",
    "kp1_sift, des1_sift = sift.detectAndCompute(img1_sift, None) # 特征提取得到关键点以及对应的描述符（特征向量）\n",
    "img2_siftc = cv2.imread(r'2.jpg') # 读取文件\n",
    "img2_sift = cv2.cvtColor(img2_siftc, cv2.COLOR_BGR2GRAY) # 转化为灰度图\n",
    "kp2_sift, des2_sift = sift.detectAndCompute(img2_sift, None) # 特征提取得到关键点以及对应的描述符（特征向量）\n",
    "imgr_siftc = cv2.imread(r'2_r.jpg') # 读取文件\n",
    "imgr_sift = cv2.cvtColor(imgr_siftc, cv2.COLOR_BGR2GRAY) # 转化为灰度图\n",
    "kpr_sift, desr_sift = sift.detectAndCompute(imgr_sift, None) # 特征提取得到关键点以及对应的描述符（特征向量）"
   ]
  },
  {
   "cell_type": "code",
   "execution_count": 36,
   "metadata": {},
   "outputs": [],
   "source": [
    "img_out1_sift = cv2.drawKeypoints(img1_siftc,kp1_sift,None)\n",
    "img_out2_sift = cv2.drawKeypoints(img2_siftc,kp2_sift,None)\n",
    "img_outr_sift = cv2.drawKeypoints(imgr_siftc,kpr_sift,None)\n",
    "cv2.imshow(\"output1_sift\",img_out1_sift)\n",
    "cv2.waitKey()\n",
    "cv2.imshow(\"output2_sift\",img_out2_sift)\n",
    "cv2.waitKey()\n",
    "cv2.imshow(\"outputr_sift\",img_outr_sift)\n",
    "cv2.waitKey()\n",
    "cv2.destroyAllWindows()"
   ]
  },
  {
   "cell_type": "code",
   "execution_count": 37,
   "metadata": {},
   "outputs": [],
   "source": [
    "bf = cv2.BFMatcher(cv2.NORM_L2, crossCheck=True)  # 新建BFMatcher对象，sift的normType应该使用NORM_L2或者NORM_L1\n",
    "matches = bf.match(des1_sift, des2_sift)\n",
    "matches = sorted(matches, key=lambda x: x.distance)\n",
    "img_sift = cv2.drawMatches(img1_siftc, kp1_sift, img2_siftc, kp2_sift, matches[:50], img2_siftc, flags=2)\n",
    "cv2.imshow('sift', img_sift)\n",
    "cv2.waitKey()\n",
    "matches = bf.match(des1_sift, desr_sift)\n",
    "matches = sorted(matches, key=lambda x: x.distance)\n",
    "img_sift = cv2.drawMatches(img1_siftc, kp1_sift, imgr_siftc, kpr_sift, matches[:50], imgr_siftc, flags=2)\n",
    "cv2.imshow('sift_r', img_sift)\n",
    "cv2.waitKey()\n",
    "cv2.destroyAllWindows()"
   ]
  },
  {
   "cell_type": "code",
   "execution_count": null,
   "metadata": {},
   "outputs": [],
   "source": []
  }
 ],
 "metadata": {
  "interpreter": {
   "hash": "77e92358824cd95e6c4bc8bbd85f8f915bed2cbffdf7b71de1dc818ae11a94c8"
  },
  "kernelspec": {
   "display_name": "Python 3.8.2 64-bit",
   "language": "python",
   "name": "python3"
  },
  "language_info": {
   "codemirror_mode": {
    "name": "ipython",
    "version": 3
   },
   "file_extension": ".py",
   "mimetype": "text/x-python",
   "name": "python",
   "nbconvert_exporter": "python",
   "pygments_lexer": "ipython3",
   "version": "3.6.5"
  },
  "orig_nbformat": 4
 },
 "nbformat": 4,
 "nbformat_minor": 2
}
